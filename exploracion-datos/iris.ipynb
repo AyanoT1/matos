{
 "cells": [
  {
   "cell_type": "code",
   "execution_count": null,
   "metadata": {},
   "outputs": [],
   "source": [
    "# Import necessary libraries\n",
    "import pandas as pd\n",
    "import matplotlib.pyplot as plt\n",
    "import seaborn as sns\n",
    "\n",
    "# Load the Iris dataset\n",
    "from sklearn.datasets import load_iris\n",
    "iris = load_iris()\n",
    "df = pd.DataFrame(iris.data, columns=iris.feature_names)\n",
    "df['species'] = pd.Categorical.from_codes(iris.target, iris.target_names)\n",
    "\n",
    "# Take a quick look at the first few rows\n",
    "print(df.head())\n"
   ]
  },
  {
   "cell_type": "code",
   "execution_count": null,
   "metadata": {},
   "outputs": [],
   "source": [
    "# Get basic information about the dataset\n",
    "print(df.info())\n",
    "\n",
    "print(f\"\\n{\"-\"*80}\\n\")\n",
    "\n",
    "# Get statistical summary of the dataset\n",
    "print(df.describe())\n",
    "\n",
    "print(f\"\\n{\"-\"*80}\\n\")\n",
    "\n",
    "# Check for missing values\n",
    "print(df.isnull().sum())\n",
    "\n",
    "print(f\"\\n{\"-\"*80}\\n\")\n",
    "\n",
    "# Count the number of samples in each class\n",
    "print(df['species'].value_counts())"
   ]
  },
  {
   "cell_type": "code",
   "execution_count": null,
   "metadata": {},
   "outputs": [],
   "source": [
    "# Create a pairplot to visualize relationships between features\n",
    "sns.pairplot(df, hue='species')\n",
    "plt.tight_layout()\n",
    "plt.show()\n",
    "\n",
    "# Create box plots to visualize the distribution of each feature by species\n",
    "plt.figure(figsize=(12, 8))\n",
    "for i, feature in enumerate(iris.feature_names):\n",
    "    plt.subplot(2, 2, i+1)\n",
    "    sns.boxplot(x='species', y=feature, data=df)\n",
    "    plt.title(f'Distribution of {feature} by Species')\n",
    "plt.tight_layout()\n",
    "plt.show()\n",
    "\n",
    "# Create a correlation heatmap\n",
    "plt.figure(figsize=(8, 6))\n",
    "sns.heatmap(df.drop('species', axis=1).corr(), annot=True, cmap='coolwarm')\n",
    "plt.title('Feature Correlation Matrix')\n",
    "plt.tight_layout()\n",
    "plt.show()"
   ]
  },
  {
   "cell_type": "code",
   "execution_count": null,
   "metadata": {},
   "outputs": [],
   "source": [
    "# Calculate group statistics\n",
    "print(df.groupby('species', observed=False).mean())\n",
    "print(df.groupby('species', observed=False).std())\n",
    "\n",
    "# Normalize data for better comparison\n",
    "df_norm = df.copy()\n",
    "for feature in iris.feature_names:\n",
    "    df_norm[feature] = (df[feature] - df[feature].mean()) / df[feature].std()\n",
    "\n",
    "# Create a parallel coordinates plot\n",
    "plt.figure(figsize=(10, 6))\n",
    "pd.plotting.parallel_coordinates(df_norm.drop('species', axis=1).join(df['species']), \n",
    "                                'species', colormap='viridis')\n",
    "plt.title('Parallel Coordinates Plot')\n",
    "plt.tight_layout()\n",
    "plt.show()"
   ]
  }
 ],
 "metadata": {
  "kernelspec": {
   "display_name": "venv",
   "language": "python",
   "name": "python3"
  },
  "language_info": {
   "codemirror_mode": {
    "name": "ipython",
    "version": 3
   },
   "file_extension": ".py",
   "mimetype": "text/x-python",
   "name": "python",
   "nbconvert_exporter": "python",
   "pygments_lexer": "ipython3",
   "version": "3.12.9"
  }
 },
 "nbformat": 4,
 "nbformat_minor": 2
}
